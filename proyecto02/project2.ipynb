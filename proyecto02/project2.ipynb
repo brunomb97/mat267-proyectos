{
 "cells": [
  {
   "cell_type": "code",
   "execution_count": null,
   "id": "b4a71fc6-9397-4d78-b7e8-80ed7a99a6dc",
   "metadata": {},
   "outputs": [],
   "source": []
  }
 ],
 "metadata": {
  "kernelspec": {
   "display_name": "R",
   "language": "R",
   "name": "ir"
  },
  "language_info": {
   "codemirror_mode": "r",
   "file_extension": ".r",
   "mimetype": "text/x-r-source",
   "name": "R",
   "pygments_lexer": "r",
   "version": "3.6.1"
  }
 },
 "nbformat": 4,
 "nbformat_minor": 5
}
